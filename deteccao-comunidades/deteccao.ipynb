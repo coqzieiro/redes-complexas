{
 "cells": [
  {
   "cell_type": "markdown",
   "id": "8f538740",
   "metadata": {},
   "source": [
    "# **Questionário: Detecção de Comunidades**"
   ]
  },
  {
   "cell_type": "markdown",
   "id": "08e5c4e6",
   "metadata": {},
   "source": [
    "### **1. QUESTÃO**"
   ]
  },
  {
   "cell_type": "code",
   "execution_count": 2,
   "id": "b5efb8d9",
   "metadata": {},
   "outputs": [
    {
     "name": "stdout",
     "output_type": "stream",
     "text": [
      "Modularidade (fast-greedy): 0.44\n"
     ]
    }
   ],
   "source": [
    "import networkx as nx\n",
    "from networkx.algorithms import community\n",
    "\n",
    "# 1. Carregar e preparar o grafo\n",
    "G = nx.read_edgelist('jazz.txt', nodetype=int)\n",
    "G = G.to_undirected()\n",
    "G.remove_edges_from(nx.selfloop_edges(G))\n",
    "\n",
    "# 2. Extrair o maior componente conectado\n",
    "Gcc = sorted(nx.connected_components(G), key=len, reverse=True)\n",
    "G0 = G.subgraph(Gcc[0]).copy()\n",
    "\n",
    "# 3. Renumerar nós a partir de zero\n",
    "G0 = nx.convert_node_labels_to_integers(G0, first_label=0)\n",
    "\n",
    "# 4. Detectar comunidades com método fast-greedy\n",
    "communities = community.greedy_modularity_communities(G0)\n",
    "\n",
    "# 5. Calcular modularidade\n",
    "modularity = community.modularity(G0, communities)\n",
    "\n",
    "# 6. Exibir resultado\n",
    "print(f\"Modularidade (fast-greedy): {modularity:.2f}\")\n"
   ]
  },
  {
   "cell_type": "markdown",
   "id": "b2605ef0",
   "metadata": {},
   "source": [
    "### **2. QUESTÃO**"
   ]
  },
  {
   "cell_type": "code",
   "execution_count": 6,
   "id": "71328273",
   "metadata": {},
   "outputs": [
    {
     "name": "stdout",
     "output_type": "stream",
     "text": [
      "Modularidade (Louvain): 0.44\n"
     ]
    }
   ],
   "source": [
    "import networkx as nx\n",
    "from networkx.algorithms.community import louvain_communities, modularity\n",
    "\n",
    "G = nx.read_edgelist(\"jazz.txt\", nodetype=int)\n",
    "G = G.to_undirected()\n",
    "G.remove_edges_from(nx.selfloop_edges(G))\n",
    "\n",
    "Gcc = sorted(nx.connected_components(G), key=len, reverse=True)\n",
    "G0 = G.subgraph(Gcc[0]).copy()\n",
    "G0 = nx.convert_node_labels_to_integers(G0, first_label=0)\n",
    "\n",
    "comms = louvain_communities(G0, seed=42)\n",
    "mod = modularity(G0, comms)\n",
    "print(f\"Modularidade (Louvain): {mod:.2f}\")"
   ]
  },
  {
   "cell_type": "markdown",
   "id": "0547c7f1",
   "metadata": {},
   "source": [
    "### **3. QUESTÃO**"
   ]
  },
  {
   "cell_type": "code",
   "execution_count": 4,
   "id": "57f999bd",
   "metadata": {},
   "outputs": [
    {
     "name": "stdout",
     "output_type": "stream",
     "text": [
      "Resultados de modularidade (Louvain / LFR):\n",
      "mu = 0.05: Q = 0.6479\n",
      "mu = 0.10: Q = 0.5440\n",
      "mu = 0.20: Q = 0.4437\n"
     ]
    }
   ],
   "source": [
    "import networkx as nx\n",
    "from networkx.algorithms.community import louvain_communities, modularity\n",
    "\n",
    "# Parâmetros gerais\n",
    "N = 128         # número de nós\n",
    "tau1 = 3        # expoente para distribuição de grau\n",
    "tau2 = 1.5      # expoente para distribuição de tamanho de comunidade\n",
    "k = 16          # grau médio desejado (min e max iguais)\n",
    "minc = 32       # tamanho mínimo das comunidades\n",
    "maxc = 32       # tamanho máximo das comunidades\n",
    "seed = 10       # semente para reprodutibilidade\n",
    "\n",
    "# Valores de mu a testar\n",
    "mus = [0.05, 0.1, 0.2]\n",
    "results = {}\n",
    "\n",
    "for mu in mus:\n",
    "    # Geração da rede LFR\n",
    "    G = nx.LFR_benchmark_graph(\n",
    "        n=N,\n",
    "        tau1=tau1,\n",
    "        tau2=tau2,\n",
    "        mu=mu,\n",
    "        min_degree=k,\n",
    "        max_degree=k,\n",
    "        min_community=minc,\n",
    "        max_community=maxc,\n",
    "        seed=seed\n",
    "    )\n",
    "    # Converter em grafo simples (não direcionado) e remover auto-laços\n",
    "    G = nx.Graph(G)\n",
    "    G.remove_edges_from(nx.selfloop_edges(G))\n",
    "\n",
    "    # Detectar comunidades via Louvain\n",
    "    communities = louvain_communities(G, weight='weight', seed=42)\n",
    "\n",
    "    # Calcular modularidade\n",
    "    Q = modularity(G, communities, weight='weight')\n",
    "    results[mu] = Q\n",
    "\n",
    "# Exibir resultados\n",
    "print(\"Resultados de modularidade (Louvain / LFR):\")\n",
    "for mu, Q in results.items():\n",
    "    print(f\"mu = {mu:.2f}: Q = {Q:.4f}\")\n"
   ]
  },
  {
   "cell_type": "markdown",
   "id": "18083756",
   "metadata": {},
   "source": [
    "### **4. QUESTÃO**"
   ]
  },
  {
   "cell_type": "code",
   "execution_count": 5,
   "id": "c89338da",
   "metadata": {},
   "outputs": [
    {
     "name": "stdout",
     "output_type": "stream",
     "text": [
      "Resultados de modularidade (Fast Greedy / LFR):\n",
      "mu = 0.05: Q = 0.6479\n",
      "mu = 0.20: Q = 0.4391\n",
      "mu = 0.40: Q = 0.1616\n"
     ]
    }
   ],
   "source": [
    "import networkx as nx\n",
    "from networkx.algorithms.community import greedy_modularity_communities, modularity\n",
    "\n",
    "# Parâmetros gerais\n",
    "N = 128         # número de nós\n",
    "tau1 = 3        # expoente para distribuição de grau\n",
    "tau2 = 1.5      # expoente para distribuição de tamanho de comunidade\n",
    "k = 16          # grau médio desejado (min e max iguais)\n",
    "minc = 32       # tamanho mínimo das comunidades\n",
    "maxc = 32       # tamanho máximo das comunidades\n",
    "seed = 10       # semente para reprodutibilidade\n",
    "\n",
    "# Valores de mu a testar\n",
    "mus = [0.05, 0.2, 0.4]\n",
    "results = {}\n",
    "\n",
    "for mu in mus:\n",
    "    # Geração da rede LFR\n",
    "    G = nx.LFR_benchmark_graph(\n",
    "        n=N,\n",
    "        tau1=tau1,\n",
    "        tau2=tau2,\n",
    "        mu=mu,\n",
    "        min_degree=k,\n",
    "        max_degree=k,\n",
    "        min_community=minc,\n",
    "        max_community=maxc,\n",
    "        seed=seed\n",
    "    )\n",
    "    # Converter em grafo simples (não direcionado) e remover auto-laços\n",
    "    G = nx.Graph(G)\n",
    "    G.remove_edges_from(nx.selfloop_edges(G))\n",
    "\n",
    "    # Detectar comunidades via Fast Greedy (greedy modularity)\n",
    "    communities = greedy_modularity_communities(G, weight='weight')\n",
    "\n",
    "    # Calcular modularidade\n",
    "    Q = modularity(G, communities, weight='weight')\n",
    "    results[mu] = Q\n",
    "\n",
    "# Exibir resultados\n",
    "print(\"Resultados de modularidade (Fast Greedy / LFR):\")\n",
    "for mu, Q in results.items():\n",
    "    print(f\"mu = {mu:.2f}: Q = {Q:.4f}\")"
   ]
  }
 ],
 "metadata": {
  "kernelspec": {
   "display_name": "Python 3",
   "language": "python",
   "name": "python3"
  },
  "language_info": {
   "codemirror_mode": {
    "name": "ipython",
    "version": 3
   },
   "file_extension": ".py",
   "mimetype": "text/x-python",
   "name": "python",
   "nbconvert_exporter": "python",
   "pygments_lexer": "ipython3",
   "version": "3.10.12"
  }
 },
 "nbformat": 4,
 "nbformat_minor": 5
}
