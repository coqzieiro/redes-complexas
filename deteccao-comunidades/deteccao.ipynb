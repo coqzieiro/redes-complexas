{
 "cells": [
  {
   "cell_type": "markdown",
   "id": "8f538740",
   "metadata": {},
   "source": [
    "# **Questionário: Detecção de Comunidades**"
   ]
  },
  {
   "cell_type": "markdown",
   "id": "08e5c4e6",
   "metadata": {},
   "source": [
    "### **1. QUESTÃO**"
   ]
  },
  {
   "cell_type": "code",
   "execution_count": 2,
   "id": "b5efb8d9",
   "metadata": {},
   "outputs": [
    {
     "name": "stdout",
     "output_type": "stream",
     "text": [
      "Modularidade (fast-greedy): 0.44\n"
     ]
    }
   ],
   "source": [
    "import networkx as nx\n",
    "from networkx.algorithms import community\n",
    "\n",
    "# 1. Carregar e preparar o grafo\n",
    "G = nx.read_edgelist('jazz.txt', nodetype=int)\n",
    "G = G.to_undirected()\n",
    "G.remove_edges_from(nx.selfloop_edges(G))\n",
    "\n",
    "# 2. Extrair o maior componente conectado\n",
    "Gcc = sorted(nx.connected_components(G), key=len, reverse=True)\n",
    "G0 = G.subgraph(Gcc[0]).copy()\n",
    "\n",
    "# 3. Renumerar nós a partir de zero\n",
    "G0 = nx.convert_node_labels_to_integers(G0, first_label=0)\n",
    "\n",
    "# 4. Detectar comunidades com método fast-greedy\n",
    "communities = community.greedy_modularity_communities(G0)\n",
    "\n",
    "# 5. Calcular modularidade\n",
    "modularity = community.modularity(G0, communities)\n",
    "\n",
    "# 6. Exibir resultado\n",
    "print(f\"Modularidade (fast-greedy): {modularity:.2f}\")\n"
   ]
  },
  {
   "cell_type": "markdown",
   "id": "b2605ef0",
   "metadata": {},
   "source": [
    "### **2. QUESTÃO**"
   ]
  },
  {
   "cell_type": "code",
   "execution_count": null,
   "id": "71328273",
   "metadata": {},
   "outputs": [
    {
     "name": "stdout",
     "output_type": "stream",
     "text": [
      "Modularity (Louvain): 0.44\n"
     ]
    }
   ],
   "source": [
    "import networkx as nx\n",
    "from networkx.algorithms.community import louvain_communities, modularity\n",
    "\n",
    "G = nx.read_edgelist(\"jazz.txt\", nodetype=int)\n",
    "G = G.to_undirected()\n",
    "G.remove_edges_from(nx.selfloop_edges(G))\n",
    "\n",
    "Gcc = sorted(nx.connected_components(G), key=len, reverse=True)\n",
    "G0 = G.subgraph(Gcc[0]).copy()\n",
    "G0 = nx.convert_node_labels_to_integers(G0, first_label=0)\n",
    "\n",
    "comms = louvain_communities(G0, seed=42)\n",
    "mod = modularity(G0, comms)\n",
    "print(f\"Modularidade (Louvain): {mod:.2f}\")"
   ]
  }
 ],
 "metadata": {
  "kernelspec": {
   "display_name": "Python 3",
   "language": "python",
   "name": "python3"
  },
  "language_info": {
   "codemirror_mode": {
    "name": "ipython",
    "version": 3
   },
   "file_extension": ".py",
   "mimetype": "text/x-python",
   "name": "python",
   "nbconvert_exporter": "python",
   "pygments_lexer": "ipython3",
   "version": "3.10.12"
  }
 },
 "nbformat": 4,
 "nbformat_minor": 5
}
