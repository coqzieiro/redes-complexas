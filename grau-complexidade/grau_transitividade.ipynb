{
  "cells": [
    {
      "cell_type": "markdown",
      "metadata": {
        "id": "HC6grgC7qEYY"
      },
      "source": [
        "# **Questionário: Grau e Transitividade**"
      ]
    },
    {
      "cell_type": "markdown",
      "metadata": {
        "id": "xYFazU0Sp6pr"
      },
      "source": [
        "### **1. QUESTÃO**"
      ]
    },
    {
      "cell_type": "code",
      "execution_count": 11,
      "metadata": {
        "id": "IU1xlFYNp3ad"
      },
      "outputs": [
        {
          "name": "stdout",
          "output_type": "stream",
          "text": [
            "Terceiro momento do grau: 1408.025974025974\n",
            "Quarto momento do grau: 33592.72727272727\n"
          ]
        }
      ],
      "source": [
        "# Importando bibliotecas\n",
        "import networkx as nx\n",
        "import numpy as np\n",
        "\n",
        "# Lendo o arquivo e criando o grafo\n",
        "G = nx.Graph()\n",
        "\n",
        "with open('lesmis.txt', 'r') as file:\n",
        "    for line in file:\n",
        "        u, v, *_ = line.split()\n",
        "        G.add_edge(int(u), int(v))\n",
        "\n",
        "# Calculando os graus dos nós\n",
        "degrees = np.array([deg for _, deg in G.degree()])\n",
        "\n",
        "# Terceiro momento não centralizado (média dos graus ao cubo)\n",
        "third_moment = np.mean(degrees**3)\n",
        "\n",
        "# Quarto momento não centralizado (média dos graus à quarta potência)\n",
        "fourth_moment = np.mean(degrees**4)\n",
        "\n",
        "print(\"Terceiro momento do grau:\", third_moment)\n",
        "print(\"Quarto momento do grau:\", fourth_moment)\n"
      ]
    },
    {
      "cell_type": "markdown",
      "metadata": {},
      "source": [
        "### **2. QUESTÃO**"
      ]
    },
    {
      "cell_type": "code",
      "execution_count": 18,
      "metadata": {},
      "outputs": [
        {
          "name": "stdout",
          "output_type": "stream",
          "text": [
            "Complexidade da rede powergrid: 3.87\n"
          ]
        }
      ],
      "source": [
        "# Importando bibliotecas\n",
        "import networkx as nx\n",
        "import numpy as np\n",
        "\n",
        "# Carregando o grafo powergrid\n",
        "G = nx.Graph()\n",
        "\n",
        "# Substitua 'powergrid.txt' pelo caminho correto se necessário\n",
        "with open('powergrid.txt', 'r') as file:\n",
        "    for line in file:\n",
        "        parts = line.split()\n",
        "        u, v = int(parts[0]), int(parts[1])\n",
        "        G.add_edge(u, v)\n",
        "\n",
        "# Calculando graus\n",
        "degrees = np.array([deg for _, deg in G.degree()])\n",
        "\n",
        "# Medida correta de complexidade\n",
        "complexidade = np.mean(degrees**2) / np.mean(degrees)\n",
        "\n",
        "# Exibindo o resultado\n",
        "print(\"Complexidade da rede powergrid:\", round(complexidade, 2))"
      ]
    },
    {
      "cell_type": "markdown",
      "metadata": {},
      "source": [
        "### **3. QUESTÃO**"
      ]
    },
    {
      "cell_type": "code",
      "execution_count": 19,
      "metadata": {},
      "outputs": [
        {
          "name": "stdout",
          "output_type": "stream",
          "text": [
            "Entropia de Shannon da rede euroroad: 2.0\n"
          ]
        }
      ],
      "source": [
        "# Importando bibliotecas\n",
        "import networkx as nx\n",
        "import numpy as np\n",
        "\n",
        "# Carregando o grafo euroroad\n",
        "G = nx.Graph()\n",
        "\n",
        "# Substitua 'euroroad.txt' pelo caminho correto se necessário\n",
        "with open('euroroad.txt', 'r') as file:\n",
        "    for line in file:\n",
        "        parts = line.split()\n",
        "        u, v = int(parts[0]), int(parts[1])\n",
        "        G.add_edge(u, v)\n",
        "\n",
        "# Calculando graus\n",
        "degrees = np.array([deg for _, deg in G.degree()])\n",
        "\n",
        "# Calculando a probabilidade de cada grau\n",
        "values, counts = np.unique(degrees, return_counts=True)\n",
        "probs = counts / counts.sum()\n",
        "\n",
        "# Entropia de Shannon\n",
        "entropy = -np.sum(probs * np.log2(probs))\n",
        "\n",
        "# Exibindo o resultado\n",
        "print(\"Entropia de Shannon da rede euroroad:\", round(entropy, 2))"
      ]
    },
    {
      "cell_type": "markdown",
      "metadata": {},
      "source": [
        "### **4. QUESTÃO**"
      ]
    },
    {
      "cell_type": "code",
      "execution_count": null,
      "metadata": {},
      "outputs": [
        {
          "name": "stdout",
          "output_type": "stream",
          "text": [
            "Transitivity: 0.38\n",
            "Average Clustering Coefficient: 0.5\n"
          ]
        }
      ],
      "source": [
        "# Importando bibliotecas\n",
        "import networkx as nx\n",
        "\n",
        "# Carregando o grafo de aeroportos (usairport)\n",
        "G = nx.Graph()\n",
        "\n",
        "# Substitua 'usairport.txt' pelo caminho correto se necessário\n",
        "with open('usairport.txt', 'r') as file:\n",
        "    for line in file:\n",
        "        parts = line.split()\n",
        "        u, v = int(parts[0]), int(parts[1])\n",
        "        G.add_edge(u, v)\n",
        "\n",
        "# Calculando transitividade\n",
        "transitivity = nx.transitivity(G)\n",
        "\n",
        "# Calculando average clustering coefficient\n",
        "average_clustering = nx.average_clustering(G)\n",
        "\n",
        "# Exibindo os resultados\n",
        "print(\"Transitivity:\", round(transitivity, 2))\n",
        "print(\"Average Clustering Coefficient:\", round(average_clustering, 2))"
      ]
    },
    {
      "cell_type": "markdown",
      "metadata": {},
      "source": [
        "### **5. QUESTÃO**"
      ]
    },
    {
      "cell_type": "code",
      "execution_count": 21,
      "metadata": {},
      "outputs": [
        {
          "name": "stdout",
          "output_type": "stream",
          "text": [
            "Coeficiente de complexidade: 112.22\n",
            "Entropia de Shannon: 4.99\n"
          ]
        }
      ],
      "source": [
        "# Importando bibliotecas\n",
        "import networkx as nx\n",
        "import numpy as np\n",
        "\n",
        "# Carregando o grafo de aeroportos (usairport)\n",
        "G = nx.Graph()\n",
        "\n",
        "# Substitua 'usairport.txt' pelo caminho correto se necessário\n",
        "with open('usairport.txt', 'r') as file:\n",
        "    for line in file:\n",
        "        parts = line.split()\n",
        "        u, v = int(parts[0]), int(parts[1])\n",
        "        G.add_edge(u, v)\n",
        "\n",
        "# Calculando graus\n",
        "degrees = np.array([deg for _, deg in G.degree()])\n",
        "\n",
        "# Coeficiente de complexidade\n",
        "complexidade = np.mean(degrees**2) / np.mean(degrees)\n",
        "\n",
        "# Calculando a probabilidade de cada grau\n",
        "values, counts = np.unique(degrees, return_counts=True)\n",
        "probs = counts / counts.sum()\n",
        "\n",
        "# Entropia de Shannon\n",
        "entropy = -np.sum(probs * np.log2(probs))\n",
        "\n",
        "# Exibindo os resultados\n",
        "print(\"Coeficiente de complexidade:\", round(complexidade, 2))\n",
        "print(\"Entropia de Shannon:\", round(entropy, 2))"
      ]
    }
  ],
  "metadata": {
    "colab": {
      "provenance": []
    },
    "kernelspec": {
      "display_name": "Python 3",
      "name": "python3"
    },
    "language_info": {
      "codemirror_mode": {
        "name": "ipython",
        "version": 3
      },
      "file_extension": ".py",
      "mimetype": "text/x-python",
      "name": "python",
      "nbconvert_exporter": "python",
      "pygments_lexer": "ipython3",
      "version": "3.10.12"
    }
  },
  "nbformat": 4,
  "nbformat_minor": 0
}
