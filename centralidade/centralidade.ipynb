{
 "cells": [
  {
   "cell_type": "markdown",
   "metadata": {},
   "source": [
    "# **Questionário: Centralidade**"
   ]
  },
  {
   "cell_type": "markdown",
   "metadata": {},
   "source": [
    "### **1. QUESTÃO**"
   ]
  },
  {
   "cell_type": "code",
   "execution_count": 2,
   "metadata": {},
   "outputs": [
    {
     "name": "stdout",
     "output_type": "stream",
     "text": [
      "Média da centralidade de autovetor: 0.02\n"
     ]
    }
   ],
   "source": [
    "import networkx as nx\n",
    "import numpy as np\n",
    "\n",
    "# Carregar o grafo USairport500 \n",
    "G = nx.read_edgelist('USairport500.txt', create_using=nx.DiGraph())\n",
    "\n",
    "# Converter para grafo não direcionado\n",
    "G = G.to_undirected()\n",
    "\n",
    "# Remover auto-loops\n",
    "G.remove_edges_from(nx.selfloop_edges(G))\n",
    "\n",
    "# Identificar os componentes conectados e selecionar o maior\n",
    "Gcc = sorted(nx.connected_components(G), key=len, reverse=True)\n",
    "G = G.subgraph(Gcc[0])\n",
    "\n",
    "# Reatribuir rótulos dos nós para inteiros consecutivos a partir de 0\n",
    "G = nx.convert_node_labels_to_integers(G, first_label=0)\n",
    "\n",
    "# Calcular a centralidade de autovetor\n",
    "eigenvector_centrality = nx.eigenvector_centrality_numpy(G)\n",
    "\n",
    "# Calcular a média das pontuações de centralidade\n",
    "mean_eigenvector_centrality = np.mean(list(eigenvector_centrality.values()))\n",
    "\n",
    "print(f'Média da centralidade de autovetor: {mean_eigenvector_centrality:.2f}')"
   ]
  },
  {
   "cell_type": "markdown",
   "metadata": {},
   "source": [
    "### **2. QUESTÃO**"
   ]
  },
  {
   "cell_type": "code",
   "execution_count": 4,
   "metadata": {},
   "outputs": [
    {
     "name": "stdout",
     "output_type": "stream",
     "text": [
      "Correlação de Pearson entre betweenness e grau: 0.82\n"
     ]
    }
   ],
   "source": [
    "import networkx as nx\n",
    "import numpy as np\n",
    "from scipy.stats import pearsonr\n",
    "\n",
    "# Carrega o grafo a partir do arquivo\n",
    "G = nx.read_edgelist(\"hamsterster.txt\")\n",
    "\n",
    "# Pré-processamento\n",
    "G = G.to_undirected()\n",
    "G.remove_edges_from(nx.selfloop_edges(G))\n",
    "Gcc = sorted(nx.connected_components(G), key=len, reverse=True)\n",
    "G = G.subgraph(Gcc[0])\n",
    "G = nx.convert_node_labels_to_integers(G, first_label=0)\n",
    "\n",
    "# Calcula a betweenness centrality\n",
    "betweenness = nx.betweenness_centrality(G)\n",
    "\n",
    "# Obtém os graus dos nós\n",
    "degree = dict(G.degree())\n",
    "\n",
    "# Lista os valores mantendo a mesma ordem\n",
    "nodes = list(G.nodes())\n",
    "betweenness_values = np.array([betweenness[n] for n in nodes])\n",
    "degree_values = np.array([degree[n] for n in nodes])\n",
    "\n",
    "# Calcula a correlação de Pearson\n",
    "correlation, _ = pearsonr(betweenness_values, degree_values)\n",
    "\n",
    "# Exibe o resultado\n",
    "print(f'Correlação de Pearson entre betweenness e grau: {correlation:.2f}')"
   ]
  },
  {
   "cell_type": "markdown",
   "metadata": {},
   "source": [
    "### **3. QUESTÃO**"
   ]
  },
  {
   "cell_type": "code",
   "execution_count": 5,
   "metadata": {},
   "outputs": [
    {
     "name": "stdout",
     "output_type": "stream",
     "text": [
      "Correlação de Spearman entre closeness e k-core: 0.74\n"
     ]
    }
   ],
   "source": [
    "import networkx as nx\n",
    "import numpy as np\n",
    "from scipy.stats import spearmanr\n",
    "\n",
    "# Carrega a rede Jazz\n",
    "G = nx.read_edgelist(\"jazz.txt\")\n",
    "\n",
    "# Pré-processamento\n",
    "G = G.to_undirected()\n",
    "G.remove_edges_from(nx.selfloop_edges(G))\n",
    "Gcc = sorted(nx.connected_components(G), key=len, reverse=True)\n",
    "G = G.subgraph(Gcc[0])\n",
    "G = nx.convert_node_labels_to_integers(G, first_label=0)\n",
    "\n",
    "# Calcula closeness centrality\n",
    "closeness = nx.closeness_centrality(G)\n",
    "\n",
    "# Calcula o core number (k-core)\n",
    "core_number = nx.core_number(G)\n",
    "\n",
    "# Lista de nós\n",
    "nodes = list(G.nodes())\n",
    "closeness_values = np.array([closeness[n] for n in nodes])\n",
    "core_values = np.array([core_number[n] for n in nodes])\n",
    "\n",
    "# Correlação de Spearman\n",
    "correlation, _ = spearmanr(closeness_values, core_values)\n",
    "\n",
    "# Mostra o resultado\n",
    "print(f'Correlação de Spearman entre closeness e k-core: {correlation:.2f}')"
   ]
  }
 ],
 "metadata": {
  "kernelspec": {
   "display_name": "Python 3",
   "language": "python",
   "name": "python3"
  },
  "language_info": {
   "codemirror_mode": {
    "name": "ipython",
    "version": 3
   },
   "file_extension": ".py",
   "mimetype": "text/x-python",
   "name": "python",
   "nbconvert_exporter": "python",
   "pygments_lexer": "ipython3",
   "version": "3.10.12"
  }
 },
 "nbformat": 4,
 "nbformat_minor": 2
}
