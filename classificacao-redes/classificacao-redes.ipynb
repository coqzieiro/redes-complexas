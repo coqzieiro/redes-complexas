{
 "cells": [
  {
   "cell_type": "markdown",
   "id": "e02f4763",
   "metadata": {},
   "source": [
    "# **Classificação de Redes Complexas**"
   ]
  },
  {
   "cell_type": "markdown",
   "id": "785823a1",
   "metadata": {},
   "source": [
    "**Objetivo**\n",
    "\n",
    "Avaliar três redes de cada tipo (biológica, social e tecnológica) selecionadas de repositórios online e verificar, por meio de medidas de redes e geração de modelos nulos (Erdős–Rényi, Watts–Strogatz, Barabási–Albert, Waxman), qual modelo melhor descreve cada rede real. Projeta-se os vetores de características em 2D via PCA e aplica-se um classificador para testar a hipótese de que redes de mesmo tipo seguem o mesmo modelo."
   ]
  },
  {
   "cell_type": "markdown",
   "id": "c4cecf64",
   "metadata": {},
   "source": [
    "## **1. Seleção das redes**"
   ]
  },
  {
   "cell_type": "markdown",
   "id": "31afadcb",
   "metadata": {},
   "source": [
    "| Tipo        | Nome/Descrição | Fonte                                                           |\n",
    "| ----------- | -------------- | --------------------------------------------------------------- | \n",
    "| Biológica   |                | ICON (formigas-brain.txt)                                       |   \n",
    "| Biológica   |                | ICON (gatos-brain.txt)                                          |   \n",
    "| Biológica   |                | ICON (ratos-brain.txt)                                          |   \n",
    "| Social      |                | ICON (associacao-ceo-club.txt)                                  |   \n",
    "| Social      |                | ICON (redes-marvel.txt)                                         |   \n",
    "| Social      |                | ICON (dominancia-bison.txt)                                     |   \n",
    "| Tecnológica |                | ICON (grafico-caida-as.txt)                                     |  \n",
    "| Tecnológica |                | ICON (rede-eletrica-eua.txt)                                    |   \n",
    "| Tecnológica |                | ICON (rede-gnutella.txt)                                        |  \n",
    "\n",
    "<br>\n",
    "\n",
    "> **Ação**: fizemos o download de cada grafo em formato txt (`.txt`),"
   ]
  },
  {
   "cell_type": "markdown",
   "id": "02a26fe9",
   "metadata": {},
   "source": [
    "## **2. Medidas das redes reais**"
   ]
  },
  {
   "cell_type": "markdown",
   "id": "b8c1bb4f",
   "metadata": {},
   "source": [
    "Para cada rede real, calculamos:\n",
    "\n",
    "1. **Distribuição de graus** (histograma + média e desvio‑padrão).\n",
    "2. **Coeficiente de agrupamento global** (clustering coefficient).\n",
    "3. **Comprimento médio de caminho** (caminho geodésico médio).\n",
    "4. **Assortatividade de grau**.\n",
    "5. **Diâmetro**.\n",
    "6. **Distribuição de comprimentos de caminho**."
   ]
  },
  {
   "cell_type": "markdown",
   "id": "e39ba2cf",
   "metadata": {},
   "source": [
    "Armazenamos os resultados em um `pandas.DataFrame`."
   ]
  },
  {
   "cell_type": "code",
   "execution_count": 19,
   "id": "b647f61d",
   "metadata": {},
   "outputs": [],
   "source": [
    "import networkx as nx\n",
    "import numpy as np\n",
    "import pandas as pd\n",
    "import logging\n",
    "from concurrent.futures import ProcessPoolExecutor\n",
    "from tqdm import tqdm\n",
    "import time\n",
    "from networkx import gnp_random_graph, watts_strogatz_graph, barabasi_albert_graph\n",
    "from networkx.generators.geometric import waxman_graph\n",
    "from sklearn.decomposition import PCA, IncrementalPCA\n",
    "from sklearn.preprocessing import StandardScaler\n",
    "from sklearn.neighbors import KNeighborsClassifier\n",
    "from sklearn.model_selection import StratifiedKFold, cross_val_predict\n",
    "from sklearn.impute import SimpleImputer\n",
    "from scipy.stats import chi2_contingency, fisher_exact\n",
    "import matplotlib.pyplot as plt\n",
    "\n",
    "# Configuração do logging\n",
    "logging.basicConfig(level=logging.INFO, format='%(asctime)s - %(message)s')"
   ]
  },
  {
   "cell_type": "code",
   "execution_count": 20,
   "id": "9e5dfe18",
   "metadata": {},
   "outputs": [],
   "source": [
    "# Função para carregar o grafo\n",
    "def carrega_grafo(arquivo):\n",
    "    G = None\n",
    "    try:\n",
    "        logging.info(f\"Carregando arquivo {arquivo}...\")\n",
    "        edges = []\n",
    "        # Carregando arestas para diferentes tipos de redes\n",
    "        if arquivo.startswith('1'):  # Redes sociais\n",
    "            with open(arquivo, 'r') as f:\n",
    "                for line in f:\n",
    "                    nodes = line.split()\n",
    "                    if len(nodes) == 2:\n",
    "                        edges.append((nodes[0], nodes[1]))\n",
    "            G = nx.Graph()\n",
    "            G.add_edges_from(edges)\n",
    "        elif arquivo.startswith('2'):  # Redes biológicas\n",
    "            G = nx.read_edgelist(arquivo, nodetype=str)\n",
    "            G = nx.relabel_nodes(G, lambda x: x[1:] if x[0] == 'n' else x)\n",
    "        elif arquivo.startswith('3'):  # Redes tecnológicas\n",
    "            with open(arquivo, 'r') as f:\n",
    "                for line in f:\n",
    "                    nodes = line.split()\n",
    "                    if len(nodes) == 2:\n",
    "                        edges.append((nodes[0], nodes[1]))\n",
    "            G = nx.Graph()\n",
    "            G.add_edges_from(edges)\n",
    "        \n",
    "        if G:\n",
    "            logging.info(f\"Arquivo {arquivo} carregado com sucesso.\")\n",
    "        else:\n",
    "            logging.error(f\"Falha ao carregar o arquivo {arquivo}!\")\n",
    "        return G\n",
    "    except Exception as e:\n",
    "        logging.error(f\"Erro ao processar o arquivo {arquivo}: {e}\")\n",
    "        return None"
   ]
  },
  {
   "cell_type": "code",
   "execution_count": 21,
   "id": "ed027976",
   "metadata": {},
   "outputs": [],
   "source": [
    "# Função para extrair métricas de uma rede\n",
    "def extrai_medidas(G):\n",
    "    n = G.number_of_nodes()\n",
    "    \n",
    "    if n == 0:\n",
    "        return {\n",
    "            'N': n,\n",
    "            'kbar': np.nan,\n",
    "            'deg_std': np.nan,\n",
    "            'C': np.nan,\n",
    "            'L': np.nan,\n",
    "            'r': np.nan,\n",
    "            'd': np.nan\n",
    "        }\n",
    "    \n",
    "    kbar = sum(dict(G.degree()).values()) / n\n",
    "    degs = np.array(list(dict(G.degree()).values()))\n",
    "    C = nx.transitivity(G)\n",
    "    \n",
    "    if nx.is_connected(G):\n",
    "        L = nx.average_shortest_path_length(G)\n",
    "        d = nx.diameter(G)\n",
    "    else:\n",
    "        L, d = np.nan, np.nan  # Grafo desconexo: não podemos calcular o comprimento médio ou o diâmetro\n",
    "    \n",
    "    r = nx.degree_assortativity_coefficient(G)\n",
    "    \n",
    "    return {\n",
    "        'N': n,\n",
    "        'kbar': kbar,\n",
    "        'deg_std': degs.std() if n > 1 else np.nan,\n",
    "        'C': C,\n",
    "        'L': L,\n",
    "        'r': r,\n",
    "        'd': d\n",
    "    }"
   ]
  },
  {
   "cell_type": "markdown",
   "id": "24988a13",
   "metadata": {},
   "source": [
    "## **3. Geração de modelos nulos**"
   ]
  },
  {
   "cell_type": "markdown",
   "id": "10c3a6a9",
   "metadata": {},
   "source": [
    "Para cada rede real com parâmetros $N,\\bar{k}$, gere quatro modelos:\n",
    "\n",
    "| Modelo               | Parâmetros                                             |\n",
    "| -------------------- | ------------------------------------------------------ |\n",
    "| ER (Erdős–Rényi)     | `n=N`, `p=\\bar{k}/(N-1)`                               |\n",
    "| WS (Watts–Strogatz)  | `n=N`, `k=round(\\bar{k})` (par), `p_rewire=0.1`        |\n",
    "| BA (Barabási–Albert) | `n=N`, `m=round(\\bar{k}/2)`                            |\n",
    "| Waxman               | `n=N`, `alpha=0.4`, `beta=0.1` (ajustar se necessário) |"
   ]
  },
  {
   "cell_type": "code",
   "execution_count": 22,
   "id": "2d5b25c0",
   "metadata": {},
   "outputs": [],
   "source": [
    "# Função para gerar modelos nulos\n",
    "def gera_modelos(N, kbar):\n",
    "    m = max(1, int(round(kbar / 2)))\n",
    "    return {\n",
    "        'ER': nx.gnp_random_graph(N, kbar / (N - 1)),\n",
    "        'WS': nx.watts_strogatz_graph(N, round(kbar), p=0.1),\n",
    "        'BA': nx.barabasi_albert_graph(N, m),\n",
    "        'WX': nx.waxman_graph(N, alpha=0.4, beta=0.1)\n",
    "    }"
   ]
  },
  {
   "cell_type": "code",
   "execution_count": 23,
   "id": "efb84cb3",
   "metadata": {},
   "outputs": [],
   "source": [
    "# Função para calcular as métricas de uma rede\n",
    "def calcula_metricas_para_modelo(row):\n",
    "    # Início do processo de geração de modelos nulos\n",
    "    logging.debug(f\"Iniciando a geração de modelos nulos para a rede: {row['id']}\")\n",
    "    \n",
    "    N = row['N']\n",
    "    kbar = row['kbar']\n",
    "    \n",
    "    # Geração dos modelos nulos com os parâmetros N e kbar\n",
    "    modelos = gera_modelos(N, kbar)\n",
    "    \n",
    "    modelos_nulos = []\n",
    "    for modelo, G in modelos.items():\n",
    "        # Extração das métricas do modelo\n",
    "        medidas = extrai_medidas(G)\n",
    "        \n",
    "        # Adicionando as métricas ao resultado final\n",
    "        modelos_nulos.append({\n",
    "            'id': row['id'],\n",
    "            'modelo': modelo,\n",
    "            'tipo': row['tipo'],\n",
    "            **medidas\n",
    "        })\n",
    "    \n",
    "    # Log de finalização do processo\n",
    "    logging.debug(f\"Finalizada a geração de modelos nulos para a rede: {row['id']}\")\n",
    "    \n",
    "    return modelos_nulos\n"
   ]
  },
  {
   "cell_type": "code",
   "execution_count": 24,
   "id": "b7e2c60a",
   "metadata": {},
   "outputs": [],
   "source": [
    "import networkx as nx\n",
    "\n",
    "# Função para gerar modelos nulos\n",
    "def gera_modelos(N, kbar):\n",
    "    m = max(1, int(round(kbar / 2)))\n",
    "    return {\n",
    "        'ER': nx.gnp_random_graph(N, kbar / (N - 1)),\n",
    "        'WS': nx.watts_strogatz_graph(N, round(kbar), p=0.1),\n",
    "        'BA': nx.barabasi_albert_graph(N, m),\n",
    "        'WX': nx.waxman_graph(N, alpha=0.4, beta=0.1)\n",
    "    }\n"
   ]
  },
  {
   "cell_type": "code",
   "execution_count": 25,
   "id": "dfe6f7db",
   "metadata": {},
   "outputs": [],
   "source": [
    "# Função para processar os arquivos\n",
    "def processa_arquivos(arquivos):\n",
    "    resultados = []\n",
    "    for arquivo in arquivos:\n",
    "        G = carrega_grafo(arquivo)\n",
    "        if G:\n",
    "            medidas = extrai_medidas(G)\n",
    "            tipo = 'Social' if arquivo.startswith('1') else ('Biológica' if arquivo.startswith('2') else 'Tecnológica')\n",
    "            resultados.append({'id': arquivo, 'tipo': tipo, **medidas})\n",
    "    return pd.DataFrame(resultados)"
   ]
  },
  {
   "cell_type": "code",
   "execution_count": 26,
   "id": "7d9e913f",
   "metadata": {},
   "outputs": [
    {
     "name": "stderr",
     "output_type": "stream",
     "text": [
      "2025-05-10 18:41:48,747 - Iniciando o processamento dos arquivos sociais...\n",
      "2025-05-10 18:41:48,824 - Carregando arquivo 1associacao-ceo-club.txt...\n",
      "2025-05-10 18:41:48,828 - Carregando arquivo 1advogato.txt...\n",
      "2025-05-10 18:41:48,846 - Arquivo 1associacao-ceo-club.txt carregado com sucesso.\n",
      "2025-05-10 18:41:48,846 - Carregando arquivo 1redes-marvel.txt...\n",
      "2025-05-10 18:41:49,127 - Arquivo 1redes-marvel.txt carregado com sucesso.\n",
      "2025-05-10 18:41:49,208 - Arquivo 1advogato.txt carregado com sucesso.\n",
      "2025-05-10 18:41:50,405 - Tempo para processar arquivos sociais: 1.66 segundos.\n",
      "2025-05-10 18:41:50,406 - Iniciando o processamento dos arquivos biológicos...\n",
      "2025-05-10 18:41:50,448 - Carregando arquivo 2ratos-brain.txt...\n",
      "2025-05-10 18:41:50,447 - Carregando arquivo 2formigas-brain.txt...\n",
      "2025-05-10 18:41:50,447 - Carregando arquivo 2gatos-brain.txt...\n",
      "2025-05-10 18:41:50,458 - Arquivo 2formigas-brain.txt carregado com sucesso.\n",
      "2025-05-10 18:41:50,525 - Arquivo 2gatos-brain.txt carregado com sucesso.\n",
      "2025-05-10 18:41:50,546 - Arquivo 2ratos-brain.txt carregado com sucesso.\n",
      "2025-05-10 18:41:53,107 - Tempo para processar arquivos biológicos: 2.70 segundos.\n",
      "2025-05-10 18:41:53,111 - Iniciando o processamento dos arquivos tecnológicos...\n",
      "2025-05-10 18:41:53,157 - Carregando arquivo 3rede-eletrica-eua.txt...\n",
      "2025-05-10 18:41:53,157 - Carregando arquivo 3rede-gnutella.txt...\n",
      "2025-05-10 18:41:53,157 - Carregando arquivo 3lesmis.txt...\n",
      "2025-05-10 18:41:53,165 - Arquivo 3lesmis.txt carregado com sucesso.\n",
      "2025-05-10 18:41:53,178 - Arquivo 3rede-eletrica-eua.txt carregado com sucesso.\n",
      "2025-05-10 18:41:53,220 - Arquivo 3rede-gnutella.txt carregado com sucesso.\n",
      "2025-05-10 18:42:24,628 - Tempo para processar arquivos tecnológicos: 31.52 segundos.\n"
     ]
    }
   ],
   "source": [
    "import time\n",
    "from concurrent.futures import ProcessPoolExecutor\n",
    "import logging\n",
    "import pandas as pd\n",
    "from tqdm import tqdm\n",
    "\n",
    "# Função para carregar arquivos de um tipo específico\n",
    "def processa_arquivos_por_tipo(arquivos, tipo):\n",
    "    resultados = []\n",
    "    \n",
    "    # Usar ProcessPoolExecutor para carregar e processar os arquivos em paralelo\n",
    "    with ProcessPoolExecutor(max_workers=4) as executor:  # Usando 4 workers para aproveitar mais núcleos\n",
    "        futures = list(executor.map(carrega_grafo, arquivos))  # Usando map diretamente\n",
    "        \n",
    "        for arquivo, G in zip(arquivos, futures):\n",
    "            try:\n",
    "                if G:\n",
    "                    medidas = extrai_medidas(G)\n",
    "                    resultados.append({'id': arquivo, 'tipo': tipo, **medidas})\n",
    "                else:\n",
    "                    logging.warning(f\"Arquivo {arquivo} não foi carregado corretamente.\")\n",
    "            except Exception as e:\n",
    "                logging.error(f\"Erro ao processar o arquivo {arquivo}. Tipo de erro: {type(e).__name__}. Detalhes: {e}\")\n",
    "                continue\n",
    "    return pd.DataFrame(resultados)\n",
    "\n",
    "# Lista de arquivos por tipo\n",
    "arquivos_sociais = ['1associacao-ceo-club.txt', '1advogato.txt', '1redes-marvel.txt']\n",
    "arquivos_biologicos = ['2formigas-brain.txt', '2gatos-brain.txt', '2ratos-brain.txt']\n",
    "arquivos_tecnologicos = ['3lesmis.txt', '3rede-eletrica-eua.txt', '3rede-gnutella.txt']\n",
    "\n",
    "# Processando os arquivos sociais\n",
    "logging.info(\"Iniciando o processamento dos arquivos sociais...\")\n",
    "start_time = time.time()\n",
    "df_sociais = processa_arquivos_por_tipo(arquivos_sociais, 'Social')\n",
    "elapsed_time = time.time() - start_time\n",
    "logging.info(f\"Tempo para processar arquivos sociais: {elapsed_time:.2f} segundos.\")\n",
    "\n",
    "# Processando os arquivos biológicos\n",
    "logging.info(\"Iniciando o processamento dos arquivos biológicos...\")\n",
    "start_time = time.time()\n",
    "df_biologicos = processa_arquivos_por_tipo(arquivos_biologicos, 'Biológica')\n",
    "elapsed_time = time.time() - start_time\n",
    "logging.info(f\"Tempo para processar arquivos biológicos: {elapsed_time:.2f} segundos.\")\n",
    "\n",
    "# Processando os arquivos tecnológicos\n",
    "logging.info(\"Iniciando o processamento dos arquivos tecnológicos...\")\n",
    "start_time = time.time()\n",
    "df_tecnologicos = processa_arquivos_por_tipo(arquivos_tecnologicos, 'Tecnológica')\n",
    "elapsed_time = time.time() - start_time\n",
    "logging.info(f\"Tempo para processar arquivos tecnológicos: {elapsed_time:.2f} segundos.\")\n",
    "\n"
   ]
  },
  {
   "cell_type": "code",
   "execution_count": 28,
   "id": "73d5f12f",
   "metadata": {},
   "outputs": [
    {
     "name": "stderr",
     "output_type": "stream",
     "text": [
      "2025-05-10 18:48:54,263 - Iniciando a concatenação dos DataFrames...\n",
      "2025-05-10 18:48:54,267 - Iniciando a seleção da amostra aleatória de 10% dos dados.\n",
      "2025-05-10 18:48:54,270 - Amostra selecionada com 1 registros.\n",
      "2025-05-10 18:48:54,272 - Tamanho da amostra para o cálculo: 1 registros\n",
      "2025-05-10 18:48:54,274 - Iniciando o processamento sequencial das redes...\n",
      "2025-05-10 18:50:45,342 - Processamento sequencial concluído. Total de 4 modelos nulos gerados.\n",
      "2025-05-10 18:50:45,344 - Gerando DataFrame com 4 modelos nulos.\n",
      "2025-05-10 18:50:45,346 - Concatenando os modelos nulos ao DataFrame original.\n",
      "2025-05-10 18:50:45,351 - Modelos nulos gerados e concatenados. Total de 4 modelos nulos.\n",
      "2025-05-10 18:50:45,362 - Tempo para gerar e adicionar os modelos nulos ao DataFrame (sequencial): 111.09 segundos.\n"
     ]
    },
    {
     "name": "stdout",
     "output_type": "stream",
     "text": [
      "                       id         tipo     N        kbar    deg_std         C  \\\n",
      "7  3rede-eletrica-eua.txt  Tecnológica  4941    2.669095   1.791272  0.103153   \n",
      "0  3rede-eletrica-eua.txt  Tecnológica  4941    2.686096   1.617811  0.000340   \n",
      "1  3rede-eletrica-eua.txt  Tecnológica  4941    2.000000   0.436171  0.000000   \n",
      "2  3rede-eletrica-eua.txt  Tecnológica  4941    1.999595   3.700375  0.000000   \n",
      "3  3rede-eletrica-eua.txt  Tecnológica  4941  211.340215  29.496219  0.045708   \n",
      "\n",
      "            L         r      d modelo  \n",
      "7   18.989185  0.003457   46.0    NaN  \n",
      "0         NaN  0.004201    NaN     ER  \n",
      "1  153.038713 -0.024895  388.0     WS  \n",
      "2    8.292929 -0.061437   21.0     BA  \n",
      "3    1.957709  0.058155    3.0     WX  \n"
     ]
    }
   ],
   "source": [
    "import logging\n",
    "import time\n",
    "from concurrent.futures import ProcessPoolExecutor\n",
    "from tqdm import tqdm\n",
    "import pandas as pd\n",
    "from multiprocessing import cpu_count\n",
    "\n",
    "# Configuração do logging para garantir que os logs sejam exibidos corretamente\n",
    "logging.basicConfig(level=logging.DEBUG, format='%(asctime)s - %(levelname)s - %(message)s')\n",
    "logger = logging.getLogger()  # Criando o logger\n",
    "\n",
    "# Concatenando todos os DataFrames de forma mais eficiente\n",
    "logger.info(\"Iniciando a concatenação dos DataFrames...\")\n",
    "\n",
    "df_completo = pd.concat([df_sociais, df_biologicos, df_tecnologicos], ignore_index=True)\n",
    "\n",
    "# Selecionar uma amostra aleatória de 50% dos dados para testar\n",
    "logger.info(\"Iniciando a seleção da amostra aleatória de 10% dos dados.\")\n",
    "df_amostra = df_completo.sample(frac=0.1, random_state=42)  # Teste com 10% dos dados\n",
    "logger.info(f\"Amostra selecionada com {len(df_amostra)} registros.\")\n",
    "\n",
    "# Verificando o tamanho da amostra\n",
    "logger.info(f\"Tamanho da amostra para o cálculo: {len(df_amostra)} registros\")\n",
    "\n",
    "# Função para calcular as métricas de uma rede\n",
    "def calcula_metricas_para_modelo(row):\n",
    "    logger.debug(f\"Iniciando a geração de modelos nulos para a rede: {row['id']}\")\n",
    "    \n",
    "    N = row['N']\n",
    "    kbar = row['kbar']\n",
    "    \n",
    "    # Gerar modelos nulos com os parâmetros N e kbar da rede\n",
    "    logger.debug(f\"Gerando modelos nulos com N={N} e kbar={kbar} para a rede: {row['id']}\")\n",
    "    modelos = gera_modelos(N, kbar)\n",
    "    logger.debug(f\"Modelos nulos gerados para a rede: {row['id']}\")\n",
    "    \n",
    "    modelos_nulos = []\n",
    "    for modelo, G in modelos.items():\n",
    "        logger.debug(f\"Extraindo medidas para o modelo {modelo} da rede: {row['id']}\")\n",
    "        medidas = extrai_medidas(G)\n",
    "        modelos_nulos.append({\n",
    "            'id': row['id'],\n",
    "            'modelo': modelo,\n",
    "            'tipo': row['tipo'],\n",
    "            **medidas\n",
    "        })\n",
    "    \n",
    "    logger.debug(f\"Finalizada a geração de modelos nulos para a rede: {row['id']}\")\n",
    "    return modelos_nulos\n",
    "\n",
    "# Teste do código sem ProcessPoolExecutor (processamento sequencial)\n",
    "logger.info(\"Iniciando o processamento sequencial das redes...\")\n",
    "start_time = time.time()\n",
    "\n",
    "modelos_nulos = []\n",
    "for idx, row in df_amostra.iterrows():\n",
    "    resultado = calcula_metricas_para_modelo(row)\n",
    "    modelos_nulos.extend(resultado)\n",
    "\n",
    "logger.info(f\"Processamento sequencial concluído. Total de {len(modelos_nulos)} modelos nulos gerados.\")\n",
    "\n",
    "# Criar DataFrame com os modelos nulos\n",
    "logger.info(f\"Gerando DataFrame com {len(modelos_nulos)} modelos nulos.\")\n",
    "df_modelos_nulos = pd.DataFrame(modelos_nulos)\n",
    "\n",
    "# Concatenar os modelos nulos ao DataFrame original\n",
    "logger.info(f\"Concatenando os modelos nulos ao DataFrame original.\")\n",
    "df_completo = pd.concat([df_amostra, df_modelos_nulos])\n",
    "\n",
    "# Exibir as primeiras linhas para verificar\n",
    "logger.info(f\"Modelos nulos gerados e concatenados. Total de {len(df_modelos_nulos)} modelos nulos.\")\n",
    "print(df_completo.head())\n",
    "\n",
    "# Calcular o tempo gasto para gerar modelos nulos\n",
    "elapsed_time = time.time() - start_time\n",
    "logger.info(f\"Tempo para gerar e adicionar os modelos nulos ao DataFrame (sequencial): {elapsed_time:.2f} segundos.\")"
   ]
  },
  {
   "cell_type": "code",
   "execution_count": 29,
   "id": "23810bc5",
   "metadata": {},
   "outputs": [
    {
     "name": "stderr",
     "output_type": "stream",
     "text": [
      "2025-05-10 18:51:06,609 - Iniciando a geração dos modelos nulos para as redes reais com ProcessPoolExecutor...\n",
      "100%|██████████| 1/1 [01:23<00:00, 83.53s/it]\n",
      "2025-05-10 18:52:30,427 - Gerando DataFrame com 4 modelos nulos gerados no processamento paralelo.\n",
      "2025-05-10 18:52:30,429 - Concatenando os modelos nulos ao DataFrame original.\n",
      "2025-05-10 18:52:30,432 - Modelos nulos gerados e concatenados. Total de 4 modelos nulos.\n",
      "2025-05-10 18:52:30,436 - Tempo para gerar e adicionar os modelos nulos ao DataFrame (paralelismo): 83.82 segundos.\n"
     ]
    },
    {
     "name": "stdout",
     "output_type": "stream",
     "text": [
      "                       id         tipo     N        kbar    deg_std         C  \\\n",
      "7  3rede-eletrica-eua.txt  Tecnológica  4941    2.669095   1.791272  0.103153   \n",
      "0  3rede-eletrica-eua.txt  Tecnológica  4941    2.640356   1.631748  0.000000   \n",
      "1  3rede-eletrica-eua.txt  Tecnológica  4941    2.000000   0.423935  0.000000   \n",
      "2  3rede-eletrica-eua.txt  Tecnológica  4941    1.999595   3.705513  0.000000   \n",
      "3  3rede-eletrica-eua.txt  Tecnológica  4941  213.734871  29.472515  0.046047   \n",
      "\n",
      "           L         r     d modelo  \n",
      "7  18.989185  0.003457  46.0    NaN  \n",
      "0        NaN -0.022857   NaN     ER  \n",
      "1        NaN -0.038637   NaN     WS  \n",
      "2   8.712643 -0.053891  23.0     BA  \n",
      "3   1.957142  0.053119   3.0     WX  \n"
     ]
    }
   ],
   "source": [
    "# Caso o sequencial funcione, agora testamos o paralelismo.\n",
    "logger.info(\"Iniciando a geração dos modelos nulos para as redes reais com ProcessPoolExecutor...\")\n",
    "\n",
    "start_time_parallel = time.time()\n",
    "\n",
    "modelos_nulos_parallel = []\n",
    "max_workers = cpu_count()  # Usando o número de CPUs disponíveis\n",
    "\n",
    "with ProcessPoolExecutor(max_workers=max_workers) as executor:\n",
    "    resultados = []\n",
    "    for resultado in tqdm(executor.map(calcula_metricas_para_modelo, [row for idx, row in df_amostra.iterrows()]), total=len(df_amostra)):\n",
    "        resultados.append(resultado)\n",
    "    \n",
    "    logger.debug(f\"Processamento paralelo concluído. Total de {len(resultados)} resultados obtidos.\")\n",
    "    for resultado in resultados:\n",
    "        modelos_nulos_parallel.extend(resultado)\n",
    "\n",
    "# Criar DataFrame com os modelos nulos\n",
    "logger.info(f\"Gerando DataFrame com {len(modelos_nulos_parallel)} modelos nulos gerados no processamento paralelo.\")\n",
    "df_modelos_nulos_parallel = pd.DataFrame(modelos_nulos_parallel)\n",
    "\n",
    "# Concatenar os modelos nulos ao DataFrame original\n",
    "logger.info(f\"Concatenando os modelos nulos ao DataFrame original.\")\n",
    "df_completo_parallel = pd.concat([df_amostra, df_modelos_nulos_parallel])\n",
    "\n",
    "# Exibir as primeiras linhas para verificar\n",
    "logger.info(f\"Modelos nulos gerados e concatenados. Total de {len(df_modelos_nulos_parallel)} modelos nulos.\")\n",
    "print(df_completo_parallel.head())\n",
    "\n",
    "# Calcular o tempo gasto para gerar modelos nulos\n",
    "elapsed_time_parallel = time.time() - start_time_parallel\n",
    "logger.info(f\"Tempo para gerar e adicionar os modelos nulos ao DataFrame (paralelismo): {elapsed_time_parallel:.2f} segundos.\")"
   ]
  },
  {
   "cell_type": "markdown",
   "id": "1e921d3a",
   "metadata": {},
   "source": [
    "Calculamos as mesmas métricas para cada grafo modelo."
   ]
  },
  {
   "cell_type": "markdown",
   "id": "1fc50dab",
   "metadata": {},
   "source": [
    "## **4. Preparação para PCA e classificação**"
   ]
  },
  {
   "cell_type": "markdown",
   "id": "53a6c16c",
   "metadata": {},
   "source": [
    "1. Concatenamos as medidas de todas as redes (reais e modelos) em um `DataFrame` com colunas:\n",
    "\n",
    "   * `id` (identificador da rede)\n",
    "   * `tipo` (Biológica/Social/Tecnológica)\n",
    "   * `modelo` (ER/WS/BA/WX ou \"Real\")\n",
    "   * `N`, `kbar`, `deg_std`, `C`, `L`, `r`, `d`\n",
    "2. Normalizamos com `StandardScaler`.\n",
    "3. Aplicamos `PCA(n_components=2)` para reduzir a 2 dimensões."
   ]
  },
  {
   "cell_type": "code",
   "execution_count": 31,
   "id": "46dd8f14",
   "metadata": {},
   "outputs": [
    {
     "name": "stderr",
     "output_type": "stream",
     "text": [
      "2025-05-10 18:54:38,142 - Iniciando o processo de PCA para redução dimensional...\n",
      "2025-05-10 18:54:38,147 - Imputando valores ausentes com a média...\n",
      "2025-05-10 18:54:38,153 - Normalizando as características...\n",
      "2025-05-10 18:54:38,157 - Aplicando PCA para redução dimensional...\n",
      "2025-05-10 18:54:38,164 - Tempo para aplicar o PCA e gerar as componentes principais: 0.02 segundos.\n"
     ]
    }
   ],
   "source": [
    "import logging\n",
    "import time\n",
    "from sklearn.decomposition import IncrementalPCA, PCA\n",
    "from sklearn.impute import SimpleImputer\n",
    "from sklearn.preprocessing import StandardScaler\n",
    "\n",
    "# Iniciando o processo de PCA para redução dimensional\n",
    "logging.info(\"Iniciando o processo de PCA para redução dimensional...\")\n",
    "\n",
    "# Marcar o tempo de início\n",
    "start_time_pca = time.time()\n",
    "\n",
    "# Definir as variáveis de entrada (características de redes)\n",
    "X = df_completo[['N', 'kbar', 'deg_std', 'C', 'L', 'r', 'd']].values\n",
    "\n",
    "# Tratamento de valores ausentes\n",
    "logging.info(\"Imputando valores ausentes com a média...\")\n",
    "imputer = SimpleImputer(strategy='mean')  # Estratégia: preencher NaN com a média\n",
    "X_imputed = imputer.fit_transform(X)\n",
    "\n",
    "# Normalização das características\n",
    "logging.info(\"Normalizando as características...\")\n",
    "scaler = StandardScaler()\n",
    "X_scaled = scaler.fit_transform(X_imputed)\n",
    "\n",
    "# Aplicar PCA para redução de dimensionalidade (do original 7D para 2D)\n",
    "logging.info(\"Aplicando PCA para redução dimensional...\")\n",
    "pca = IncrementalPCA(n_components=2, batch_size=100)  # Usar PCA incremental para datasets grandes\n",
    "# Se os dados forem pequenos, você pode usar PCA tradicional\n",
    "# pca = PCA(n_components=2)\n",
    "\n",
    "coords = pca.fit_transform(X_scaled)\n",
    "\n",
    "# Armazenar as coordenadas dos componentes principais no DataFrame\n",
    "df_completo[['PC1', 'PC2']] = coords\n",
    "\n",
    "# Medir o tempo de execução do PCA\n",
    "elapsed_time_pca = time.time() - start_time_pca\n",
    "logging.info(f\"Tempo para aplicar o PCA e gerar as componentes principais: {elapsed_time_pca:.2f} segundos.\")\n"
   ]
  },
  {
   "cell_type": "markdown",
   "id": "7a0b74d2",
   "metadata": {},
   "source": [
    "## **5. Visualização e classificação**"
   ]
  },
  {
   "cell_type": "code",
   "execution_count": 32,
   "id": "fb41009a",
   "metadata": {},
   "outputs": [
    {
     "data": {
      "image/png": "[encoded data removed]",
      "text/plain": [
       "<Figure size 800x600 with 1 Axes>"
      ]
     },
     "metadata": {},
     "output_type": "display_data"
    },
    {
     "name": "stderr",
     "output_type": "stream",
     "text": [
      "2025-05-10 18:55:10,352 - Tempo para aplicar o PCA e gerar o gráfico: 32.21 segundos.\n"
     ]
    }
   ],
   "source": [
    "import matplotlib.pyplot as plt\n",
    "\n",
    "# Visualizar os resultados do PCA\n",
    "fig, ax = plt.subplots(figsize=(8, 6))\n",
    "\n",
    "# Verificar se as colunas PC1 e PC2 estão presentes no DataFrame\n",
    "if 'PC1' in df_completo.columns and 'PC2' in df_completo.columns:\n",
    "    # Separar os dados pelo modelo para colorir os pontos\n",
    "    for label, grp in df_completo.groupby('modelo'):\n",
    "        ax.scatter(grp['PC1'], grp['PC2'], label=label, alpha=0.7)\n",
    "\n",
    "    # Adicionar a legenda\n",
    "    ax.legend(title='Modelo')\n",
    "\n",
    "    # Adicionar rótulos ao gráfico\n",
    "    ax.set_xlabel('PC1 - Primeira Componente Principal')\n",
    "    ax.set_ylabel('PC2 - Segunda Componente Principal')\n",
    "\n",
    "    # Adicionar título\n",
    "    ax.set_title('PCA - Redução Dimensional das Redes')\n",
    "\n",
    "    # Exibir o gráfico\n",
    "    plt.show()\n",
    "\n",
    "    # Calcular o tempo gasto no PCA\n",
    "    elapsed_time_pca = time.time() - start_time_pca\n",
    "    logging.info(f\"Tempo para aplicar o PCA e gerar o gráfico: {elapsed_time_pca:.2f} segundos.\")\n",
    "else:\n",
    "    logging.warning(\"As colunas 'PC1' e 'PC2' não foram encontradas no DataFrame. Verifique os dados.\")"
   ]
  },
  {
   "cell_type": "markdown",
   "id": "8cdaea82",
   "metadata": {},
   "source": [
    "## **6. Teste da hipótese**"
   ]
  },
  {
   "cell_type": "markdown",
   "id": "b1990bc3",
   "metadata": {},
   "source": [
    "**Hipótese**: redes do mesmo **tipo** seguem o mesmo **modelo**."
   ]
  },
  {
   "cell_type": "markdown",
   "id": "123abc3a",
   "metadata": {},
   "source": [
    "1. Usamos `cross_val_predict` para obter `modelo_predito` em cada amostra.\n",
    "2. Montamos uma tabela de contingência (tipos vs. modelos preditos).\n",
    "3. Aplicamos o teste de independência qui‑quadrado."
   ]
  },
  {
   "cell_type": "code",
   "execution_count": 34,
   "id": "075467fa",
   "metadata": {},
   "outputs": [
    {
     "name": "stderr",
     "output_type": "stream",
     "text": [
      "2025-05-10 18:55:56,243 - Distribuição dos rótulos (modelo):\n",
      "2025-05-10 18:55:56,246 - BA    2\n",
      "ER    1\n",
      "WS    1\n",
      "WX    1\n",
      "Name: count, dtype: int64\n",
      "2025-05-10 18:55:56,249 - Número de amostras: 5\n",
      "2025-05-10 18:55:56,251 - Usando LeaveOneOut devido ao número pequeno de amostras.\n",
      "2025-05-10 18:55:56,252 - Iniciando a validação cruzada e predição com K-NN...\n",
      "2025-05-10 18:55:56,289 - Tabela de contingência:\n",
      "2025-05-10 18:55:56,293 - modelo_predito  BA  ER\n",
      "tipo                  \n",
      "Tecnológica      2   3\n",
      "2025-05-10 18:55:56,303 - p-valor do teste qui-quadrado: 1.0\n"
     ]
    }
   ],
   "source": [
    "from sklearn.model_selection import StratifiedKFold, cross_val_predict, LeaveOneOut\n",
    "from sklearn.neighbors import KNeighborsClassifier\n",
    "from sklearn.impute import SimpleImputer\n",
    "from sklearn.preprocessing import StandardScaler\n",
    "import logging\n",
    "import pandas as pd\n",
    "from scipy.stats import chi2_contingency, fisher_exact\n",
    "\n",
    "# Configuração do logging\n",
    "logging.basicConfig(level=logging.DEBUG, format='%(asctime)s - %(levelname)s - %(message)s')\n",
    "\n",
    "# Definir os rótulos (modelo)\n",
    "y = df_completo['modelo']\n",
    "\n",
    "# Imputação de rótulos ausentes\n",
    "imputer_y = SimpleImputer(strategy='most_frequent')\n",
    "y_imputed = imputer_y.fit_transform(y.values.reshape(-1, 1)).flatten()\n",
    "\n",
    "# Verificando a distribuição dos rótulos (para ajustar a validação cruzada)\n",
    "logging.info(\"Distribuição dos rótulos (modelo):\")\n",
    "logging.info(pd.Series(y_imputed).value_counts())  # Convertendo para Series pandas e chamando value_counts\n",
    "\n",
    "# Ajuste na validação cruzada\n",
    "# Verificando a distribuição das classes\n",
    "n_samples = len(y_imputed)\n",
    "logging.info(f\"Número de amostras: {n_samples}\")\n",
    "\n",
    "# Se o número de amostras for pequeno, podemos usar LeaveOneOut ou um número maior de splits no StratifiedKFold\n",
    "if n_samples <= 5:  # Exemplo de critério para uso de LeaveOneOut\n",
    "    logging.info(\"Usando LeaveOneOut devido ao número pequeno de amostras.\")\n",
    "    cv = LeaveOneOut()  # Usar LeaveOneOut\n",
    "else:\n",
    "    logging.info(\"Usando StratifiedKFold com 5 splits.\")\n",
    "    cv = StratifiedKFold(n_splits=5)  # Usar 5 splits no StratifiedKFold\n",
    "\n",
    "# Definir o classificador K-NN\n",
    "clf = KNeighborsClassifier(n_neighbors=1)  # Mantemos 1 vizinho devido ao número de amostras pequenas\n",
    "\n",
    "# Teste de Hipótese com validação cruzada\n",
    "logging.info(\"Iniciando a validação cruzada e predição com K-NN...\")\n",
    "y_pred = cross_val_predict(clf, X_scaled, y_imputed, cv=cv)\n",
    "df_completo['modelo_predito'] = y_pred\n",
    "\n",
    "# Tabela de contingência\n",
    "cont = pd.crosstab(df_completo['tipo'], df_completo['modelo_predito'])\n",
    "logging.info(\"Tabela de contingência:\")\n",
    "logging.info(cont)\n",
    "\n",
    "# Teste exato de Fisher ou Qui-Quadrado\n",
    "if cont.shape[0] == 2 and cont.shape[1] == 2:\n",
    "    # Usar Fisher quando a tabela for 2x2\n",
    "    _, p = fisher_exact(cont)\n",
    "    logging.info(f'p-valor do teste exato de Fisher: {p}')\n",
    "else:\n",
    "    # Quando a tabela for maior que 2x2, use o teste qui-quadrado\n",
    "    chi2, p, dof, exp = chi2_contingency(cont)\n",
    "    logging.info(f'p-valor do teste qui-quadrado: {p}')\n"
   ]
  }
 ],
 "metadata": {
  "kernelspec": {
   "display_name": "Python 3",
   "language": "python",
   "name": "python3"
  },
  "language_info": {
   "codemirror_mode": {
    "name": "ipython",
    "version": 3
   },
   "file_extension": ".py",
   "mimetype": "text/x-python",
   "name": "python",
   "nbconvert_exporter": "python",
   "pygments_lexer": "ipython3",
   "version": "3.10.12"
  }
 },
 "nbformat": 4,
 "nbformat_minor": 5
}
